{
 "cells": [
  {
   "cell_type": "markdown",
   "metadata": {},
   "source": [
    "# Load dependencies"
   ]
  },
  {
   "cell_type": "code",
   "execution_count": 1,
   "metadata": {
    "tags": []
   },
   "outputs": [
    {
     "ename": "ModuleNotFoundError",
     "evalue": "No module named 'pandas'",
     "output_type": "error",
     "traceback": [
      "\u001b[0;31m---------------------------------------------------------------------------\u001b[0m",
      "\u001b[0;31mModuleNotFoundError\u001b[0m                       Traceback (most recent call last)",
      "Cell \u001b[0;32mIn[1], line 1\u001b[0m\n\u001b[0;32m----> 1\u001b[0m \u001b[38;5;28;01mimport\u001b[39;00m \u001b[38;5;21;01mpandas\u001b[39;00m \u001b[38;5;28;01mas\u001b[39;00m \u001b[38;5;21;01mpd\u001b[39;00m\n\u001b[1;32m      2\u001b[0m \u001b[38;5;28;01mimport\u001b[39;00m \u001b[38;5;21;01mnumpy\u001b[39;00m \u001b[38;5;28;01mas\u001b[39;00m \u001b[38;5;21;01mnp\u001b[39;00m\n\u001b[1;32m      3\u001b[0m \u001b[38;5;28;01mfrom\u001b[39;00m \u001b[38;5;21;01msklearn\u001b[39;00m\u001b[38;5;21;01m.\u001b[39;00m\u001b[38;5;21;01mcross_decomposition\u001b[39;00m \u001b[38;5;28;01mimport\u001b[39;00m PLSRegression\n",
      "\u001b[0;31mModuleNotFoundError\u001b[0m: No module named 'pandas'"
     ]
    }
   ],
   "source": [
    "import pandas as pd\n",
    "import numpy as np\n",
    "from sklearn.cross_decomposition import PLSRegression\n",
    "from kennard_stone import train_test_split\n",
    "from sklearn.metrics import r2_score, mean_squared_error\n",
    "from scipy.signal import savgol_filter\n",
    "import seaborn as sns\n",
    "import matplotlib.pyplot as plt"
   ]
  },
  {
   "cell_type": "markdown",
   "metadata": {},
   "source": [
    "# Prepare data"
   ]
  },
  {
   "cell_type": "code",
   "execution_count": 2,
   "metadata": {
    "tags": []
   },
   "outputs": [
    {
     "ename": "NameError",
     "evalue": "name 'pd' is not defined",
     "output_type": "error",
     "traceback": [
      "\u001b[0;31m---------------------------------------------------------------------------\u001b[0m",
      "\u001b[0;31mNameError\u001b[0m                                 Traceback (most recent call last)",
      "Cell \u001b[0;32mIn[2], line 2\u001b[0m\n\u001b[1;32m      1\u001b[0m \u001b[38;5;66;03m# Load spectral(x_block) and targets(y_block) data\u001b[39;00m\n\u001b[0;32m----> 2\u001b[0m x_block \u001b[38;5;241m=\u001b[39m \u001b[43mpd\u001b[49m\u001b[38;5;241m.\u001b[39mread_csv(\u001b[38;5;124m'\u001b[39m\u001b[38;5;124mdf-scan-all.csv\u001b[39m\u001b[38;5;124m'\u001b[39m, decimal\u001b[38;5;241m=\u001b[39m\u001b[38;5;124m'\u001b[39m\u001b[38;5;124m.\u001b[39m\u001b[38;5;124m'\u001b[39m, index_col\u001b[38;5;241m=\u001b[39m\u001b[38;5;241m0\u001b[39m)\n\u001b[1;32m      3\u001b[0m y_block \u001b[38;5;241m=\u001b[39m pd\u001b[38;5;241m.\u001b[39mread_csv(\u001b[38;5;124m'\u001b[39m\u001b[38;5;124mdf-CHN.csv\u001b[39m\u001b[38;5;124m'\u001b[39m, decimal\u001b[38;5;241m=\u001b[39m\u001b[38;5;124m'\u001b[39m\u001b[38;5;124m,\u001b[39m\u001b[38;5;124m'\u001b[39m, sep\u001b[38;5;241m=\u001b[39m\u001b[38;5;124m'\u001b[39m\u001b[38;5;124m;\u001b[39m\u001b[38;5;124m'\u001b[39m,index_col\u001b[38;5;241m=\u001b[39m\u001b[38;5;241m1\u001b[39m)\n\u001b[1;32m      5\u001b[0m y \u001b[38;5;241m=\u001b[39m y_block[\u001b[38;5;124m\"\u001b[39m\u001b[38;5;124mC\u001b[39m\u001b[38;5;124m\"\u001b[39m]\u001b[38;5;241m.\u001b[39mloc[y_block[\u001b[38;5;124m\"\u001b[39m\u001b[38;5;124mC\u001b[39m\u001b[38;5;124m\"\u001b[39m] \u001b[38;5;241m<\u001b[39m \u001b[38;5;241m50\u001b[39m]\u001b[38;5;66;03m### supprimer deux échantillons superieurs à 50: (32-E4-Qu-Mar(50.68) et (2-E1-Fa-Feb 63.61))\u001b[39;00m\n",
      "\u001b[0;31mNameError\u001b[0m: name 'pd' is not defined"
     ]
    }
   ],
   "source": [
    "# Load spectral(x_block) and targets(y_block) data\n",
    "x_block = pd.read_csv('df-scan-all.csv', decimal='.', index_col=0)\n",
    "y_block = pd.read_csv('df-CHN.csv', decimal=',', sep=';',index_col=1)\n",
    "\n",
    "y = y_block[\"C\"].loc[y_block[\"C\"] < 50]### supprimer deux échantillons superieurs à 50: (32-E4-Qu-Mar(50.68) et (2-E1-Fa-Feb 63.61))\n",
    "x = np.log10(1/x_block.loc[y.index])## transformer la reflectance en absorbance\n",
    "\n",
    "### train/test split using kennard-stone\n",
    "xx_train, xx_test, y_train, y_test = train_test_split(x, y, test_size=0.3)\n",
    "\n",
    "## apply savitzky golay filter\n",
    "x_train = savgol_filter(x =xx_train, window_length=7, polyorder=1, deriv=1) #### parametres de la dérivé de savitzku golay( window_length=7, polyorder=1, deriv=1)\n",
    "x_test = savgol_filter(x =xx_test, window_length=7, polyorder=1, deriv=1) #### parametres de la dérivé de savitzku golay( window_length=7, polyorder=1, deriv=1)"
   ]
  },
  {
   "cell_type": "code",
   "execution_count": null,
   "metadata": {},
   "outputs": [],
   "source": [
    "fig, ax = plt.subplots()\n",
    "pd.DataFrame(x_train).T.plot(figsize=(17, 3), legend = False, ax = ax, color = 'blue')# train\n",
    "pd.DataFrame(x_test).T.plot(figsize=(17, 3), legend = False, ax = ax, color = 'green', label = 'test')# test\n",
    "plt.margins(x = 0)"
   ]
  },
  {
   "cell_type": "markdown",
   "metadata": {},
   "source": [
    "# Build a predictive model and evaluate its performance"
   ]
  },
  {
   "cell_type": "code",
   "execution_count": null,
   "metadata": {},
   "outputs": [],
   "source": [
    "## Fit a plsr model\n",
    "M = PLSRegression(n_components= 9, scale= False) ## fit a pls model avec 9 composantes \n",
    "M.fit(x_train, y_train)\n",
    "\n",
    "# make predictions\n",
    "yc = M.predict(x_train)\n",
    "yt = M.predict(x_test)\n",
    "\n",
    "# compute performance metrics\n",
    "def metrics(meas, pred):\n",
    "    r2 = r2_score(meas, pred)\n",
    "    rmse = np.sqrt(mean_squared_error(meas, pred))\n",
    "    \n",
    "    perf = pd.DataFrame(\n",
    "        {\n",
    "            'R²' : r2,\n",
    "            'RMSE': [rmse],\n",
    "            'RPD': [rmse / np.std(meas, ddof = 1)],\n",
    "            'RPIQ':[rmse / (np.percentile(meas, 75) - np.percentile(meas, 25))]\n",
    "        },\n",
    "    )\n",
    "    return perf.round(2)\n",
    "\n",
    "# report the performance of the fitted model in calibration and validation  \n",
    "perf = pd.concat([metrics(y_train, yc), metrics(y_test, yt)], axis = 0)\n",
    "perf.index = ['Cal', 'Val']\n",
    "\n",
    "# Model performance\n",
    "perf"
   ]
  },
  {
   "cell_type": "markdown",
   "metadata": {},
   "source": [
    "# plot results"
   ]
  },
  {
   "cell_type": "code",
   "execution_count": null,
   "metadata": {},
   "outputs": [],
   "source": [
    "Cal = metrics(y_train, yc)\n",
    "Cal.index = ['Cal']\n",
    "Val = metrics(y_test, yt)\n",
    "Val.index = ['Val']\n",
    "plt.figure(figsize = (12,4))\n",
    "sns.regplot(x= y_train, y= yc, label= Cal)\n",
    "sns.regplot(x= y_test, y= yt, label= Val)\n",
    "plt.plot([40, 50], [40, 50], color= 'black', label= '1:1 line')\n",
    "plt.xlabel('measured')\n",
    "plt.ylabel('predicted')\n",
    "plt.legend()\n",
    "plt.margins(0)\n",
    "\n",
    "\n",
    "\n",
    "plt.figure(figsize = (12,4))\n",
    "sns.residplot(x= y_train, y= yc, label= \"Cal\", lowess=True)\n",
    "sns.residplot(x= y_test, y= yt, label= 'Val', lowess=True)\n",
    "plt.xlabel('measured')\n",
    "plt.ylabel('error')\n",
    "plt.legend()\n",
    "plt.margins(0)"
   ]
  },
  {
   "cell_type": "markdown",
   "metadata": {},
   "source": [
    "# Make predicitons for all spectra(including those used for model construction)"
   ]
  },
  {
   "cell_type": "code",
   "execution_count": null,
   "metadata": {},
   "outputs": [],
   "source": [
    "predictor = np.log10(1/x_block)## transformer la reflectance en absorbance\n",
    "## apply savitzky golay filter\n",
    "preprocessed = savgol_filter(x =predictor, window_length=7, polyorder=1, deriv=1)\n",
    "\n",
    "results = pd.DataFrame(M.predict(preprocessed), index = x_block.index, columns=[\"C\"]).round(2)\n"
   ]
  },
  {
   "cell_type": "markdown",
   "metadata": {},
   "source": [
    "# Distribution of the results"
   ]
  },
  {
   "cell_type": "code",
   "execution_count": null,
   "metadata": {},
   "outputs": [],
   "source": [
    "plt.figure(figsize = (12,4))\n",
    "sns.histplot(results)"
   ]
  },
  {
   "cell_type": "code",
   "execution_count": null,
   "metadata": {},
   "outputs": [],
   "source": [
    "results.describe().round(2).T"
   ]
  },
  {
   "cell_type": "code",
   "execution_count": null,
   "metadata": {},
   "outputs": [],
   "source": []
  }
 ],
 "metadata": {
  "kernelspec": {
   "display_name": "Python 3 (ipykernel)",
   "language": "python",
   "name": "python3"
  },
  "language_info": {
   "codemirror_mode": {
    "name": "ipython",
    "version": 3
   },
   "file_extension": ".py",
   "mimetype": "text/x-python",
   "name": "python",
   "nbconvert_exporter": "python",
   "pygments_lexer": "ipython3",
   "version": "3.11.3"
  }
 },
 "nbformat": 4,
 "nbformat_minor": 4
}
